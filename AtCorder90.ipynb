{
 "cells": [
  {
   "cell_type": "code",
   "execution_count": null,
   "metadata": {},
   "outputs": [],
   "source": [
    "N, L = map(int, input().split())\n",
    "K = int(input())\n",
    "A = list(map(int, input().split()))\n",
    "#x cm以上に分割することができるかをチェック\n",
    "def check(x):\n",
    "    num = 0 #何個切れたか\n",
    "    pre = 0 #前回の切れ目]\n",
    "    for i in range(N):\n",
    "        #xを超えたら切断\n",
    "        if A[i] -pre >= x:\n",
    "            pre = A[i]\n",
    "            num += 1\n",
    "            pre = A[i]\n",
    "    #最後の1ピースがx 以上なら加算\n",
    "    if L -pre >= x:\n",
    "        num += 1\n",
    "    #K+1 子へ分割できたかを調べる\n",
    "    return (num >= K + 1)\n",
    "\n",
    "#二分探索\n",
    "#変数leftは常に達成可能数\n",
    "left, right = -1, L+1\n",
    "while right -left >1:\n",
    "    mid = (left + right)//2\n",
    "    #mid で達成できるかを確認してできるならrightとして更新\n",
    "    if check(mid):\n",
    "        left = mid\n",
    "    #それ以外はmid をleftとして更新\n",
    "    else:\n",
    "        right = mid\n",
    "print(left)"
   ]
  },
  {
   "cell_type": "code",
   "execution_count": 2,
   "metadata": {},
   "outputs": [
    {
     "name": "stdout",
     "output_type": "stream",
     "text": [
      "(())\n",
      "()()\n"
     ]
    }
   ],
   "source": [
    "#二択のものを全探索する際にはbit探索を行うと有効\n",
    "from itertools import product\n",
    "N = int(input())\n",
    "def isvalid(S):\n",
    "    score = 0\n",
    "    for char in S:\n",
    "        if char == '(':\n",
    "            score += 1\n",
    "        else :\n",
    "            score -= 1\n",
    "        \n",
    "        if score < 0:\n",
    "            return False\n",
    "    return (score == 0)\n",
    "\n",
    "for s in product(['(', ')'], repeat = N):\n",
    "    if isvalid(s):\n",
    "        print(*s, sep = '')"
   ]
  },
  {
   "cell_type": "code",
   "execution_count": null,
   "metadata": {},
   "outputs": [
    {
     "name": "stdout",
     "output_type": "stream",
     "text": [
      "[[1], [0, 2], [1]]\n"
     ]
    }
   ],
   "source": [
    "N = int(input())\n",
    "G = [[] for _ in range(N)]\n",
    "for i in range(N-1):\n",
    "    a, b = map(int, input().split())\n",
    "    a, b = a-1, b-1\n",
    "    G[a].append(b)\n",
    "    G[b].append(a)\n",
    "#どこからどこにつながっているのかを保持したい\n",
    "\n",
    "def dfs(s):\n",
    "    #未訪問の場所を-1として初期化\n",
    "    dist = [-1] * N\n",
    "    #スタート位置としてsにおけるdist を0として初期化\n",
    "    dist[s] = 0\n",
    "    #現在の位置をstへ\n",
    "    st = [s]\n",
    "    while st:\n",
    "        #stから現在の位置を取得している\n",
    "        v = st.pop()\n",
    "        #現在の位置からいける位置を取得し\n",
    "        for nv in G[v]:\n",
    "            #まだ訪れていなければstへ追加する\n",
    "            if dist[nv] == -1:\n",
    "                st.append(nv)\n",
    "                #sから始めた時の木の長さ\n",
    "                dist[nv] = dist[v] + 1\n",
    "    return dist\n",
    "\n",
    "#木の直径を求める\n",
    "#適当な点から最も遠い点を求める\n",
    "#その点からもっとも遠い点を求める\n",
    "#この二点の距離を求めると最大となる\n",
    "dist0 = dfs(0)\n",
    "mv = max(enumerate(dist0), key = lambda x : x[1])[0]\n",
    "distmv = dfs(mv)\n",
    "print(max(distmv) + 1)\n"
   ]
  },
  {
   "cell_type": "code",
   "execution_count": null,
   "metadata": {},
   "outputs": [],
   "source": []
  },
  {
   "cell_type": "code",
   "execution_count": null,
   "metadata": {},
   "outputs": [
    {
     "name": "stdout",
     "output_type": "stream",
     "text": [
      "5 5 5\n",
      "5 5 5\n",
      "5 5 5\n"
     ]
    }
   ],
   "source": [
    "#データの入力\n",
    "H, W = map(int, input().split())\n",
    "A = [[] for _ in range(H)]\n",
    "for h in range(H):\n",
    "    A[h] = list(map(int, input().split()))\n",
    "#答えの行列をすべての要素を0として初期化\n",
    "answer = [[0] * W for _ in range(H)]\n",
    "yoko = list(map(sum, A))\n",
    "tate = list(map(sum, zip(*A)))\n",
    "for h in range(H):\n",
    "    for w in range(W):\n",
    "        answer[h][w] = yoko[h] + tate[w] - A[h][w]\n",
    "    print(*answer[h])"
   ]
  },
  {
   "cell_type": "code",
   "execution_count": null,
   "metadata": {},
   "outputs": [
    {
     "name": "stdout",
     "output_type": "stream",
     "text": [
      "5 5 5\n",
      "5 5 5\n",
      "5 5 5\n"
     ]
    }
   ],
   "source": [
    "#numpyを用いた場合の行列計算について\n",
    "import numpy as np\n",
    "H, W = map(int, input().split())\n",
    "A = [[] for _ in range(H)]\n",
    "for h in range(H):\n",
    "    A[h] = list(map(int, input().split()))\n",
    "A = np.array(A)\n",
    "answer = [[0] * W for _ in range(H)]\n",
    "tate = np.sum(A, axis = 0)\n",
    "yoko = np.sum(A, axis = 1)\n",
    "for h in range(H):\n",
    "    for w in range(W):\n",
    "        answer[h][w] = tate[w] + yoko[h] -A[h][w]\n",
    "    print(* answer[h])"
   ]
  },
  {
   "cell_type": "code",
   "execution_count": null,
   "metadata": {},
   "outputs": [
    {
     "name": "stdout",
     "output_type": "stream",
     "text": [
      "[[0, 8, 2, 5, 6, 8, 8, 8, 8, 8, 8, 8, 8, 8, 3, 8, 8, 4, 8, 1, 8, 8, 8, 8, 8, 8], [8, 8, 2, 5, 6, 8, 8, 8, 8, 8, 8, 8, 8, 8, 3, 8, 8, 4, 8, 1, 8, 8, 8, 8, 8, 8], [8, 8, 2, 5, 6, 8, 8, 8, 8, 8, 8, 8, 8, 8, 3, 8, 8, 4, 8, 8, 8, 8, 8, 8, 8, 8], [8, 8, 8, 5, 6, 8, 8, 8, 8, 8, 8, 8, 8, 8, 3, 8, 8, 4, 8, 8, 8, 8, 8, 8, 8, 8], [8, 8, 8, 5, 6, 8, 8, 8, 8, 8, 8, 8, 8, 8, 8, 8, 8, 4, 8, 8, 8, 8, 8, 8, 8, 8], [8, 8, 8, 5, 6, 8, 8, 8, 8, 8, 8, 8, 8, 8, 8, 8, 8, 7, 8, 8, 8, 8, 8, 8, 8, 8], [8, 8, 8, 8, 6, 8, 8, 8, 8, 8, 8, 8, 8, 8, 8, 8, 8, 7, 8, 8, 8, 8, 8, 8, 8, 8], [8, 8, 8, 8, 8, 8, 8, 8, 8, 8, 8, 8, 8, 8, 8, 8, 8, 7, 8, 8, 8, 8, 8, 8, 8, 8], [8, 8, 8, 8, 8, 8, 8, 8, 8, 8, 8, 8, 8, 8, 8, 8, 8, 8, 8, 8, 8, 8, 8, 8, 8, 8]]\n",
      "acd\n"
     ]
    }
   ],
   "source": [
    "#辞書順最小のものは貪欲法で求める\n",
    "N, K = map(int, input().split())\n",
    "S = input()\n",
    "\n",
    "#貪欲法を行うための前処理\n",
    "def calc_next(S):\n",
    "    N = len(S)\n",
    "    res = [[N] * 26 for _ in range(N+ 1)]\n",
    "    for i in range(N-1, -1, -1):\n",
    "        for j in range(26):\n",
    "            res[i][j] = res[i+1][j]\n",
    "        res[i][ord(S[i]) - ord('a')] = i\n",
    "    return res\n",
    "#前処理を行う\n",
    "res = ''\n",
    "nex = calc_next(S)\n",
    "print(nex)\n",
    "#実際に貪欲法を行う\n",
    "j = -1\n",
    "for i in range(K):\n",
    "    for ordc in range(26):\n",
    "        k = nex[j + 1][ordc]\n",
    "        if N -k >= k -i:\n",
    "            res += chr(ord(\"a\") + ordc)\n",
    "            j = k\n",
    "            break\n",
    "print(res)"
   ]
  },
  {
   "cell_type": "code",
   "execution_count": null,
   "metadata": {},
   "outputs": [
    {
     "ename": "ValueError",
     "evalue": "invalid literal for int() with base 10: ''",
     "output_type": "error",
     "traceback": [
      "\u001b[1;31m---------------------------------------------------------------------------\u001b[0m",
      "\u001b[1;31mValueError\u001b[0m                                Traceback (most recent call last)",
      "Cell \u001b[1;32mIn[17], line 1\u001b[0m\n\u001b[1;32m----> 1\u001b[0m N \u001b[38;5;241m=\u001b[39m \u001b[38;5;28mint\u001b[39m(\u001b[38;5;28minput\u001b[39m())\n\u001b[0;32m      2\u001b[0m A \u001b[38;5;241m=\u001b[39m \u001b[38;5;28mlist\u001b[39m(\u001b[38;5;28mmap\u001b[39m(\u001b[38;5;28mint\u001b[39m, \u001b[38;5;28minput\u001b[39m()\u001b[38;5;241m.\u001b[39msplit()))\n\u001b[0;32m      3\u001b[0m Q \u001b[38;5;241m=\u001b[39m \u001b[38;5;28mint\u001b[39m(\u001b[38;5;28minput\u001b[39m())\n",
      "\u001b[1;31mValueError\u001b[0m: invalid literal for int() with base 10: ''"
     ]
    }
   ],
   "source": [
    "def closest_x(A, x):\n",
    "    left = 0\n",
    "    right = len(A)\n",
    "    while left < right:\n",
    "        mid = (left + right) // 2\n",
    "        if A[mid] < x:\n",
    "            left = mid + 1\n",
    "        else:\n",
    "            right = mid\n",
    "    return left\n",
    "\n",
    "N = int(input())\n",
    "A = list(map(int, input().split()))\n",
    "Q = int(input())\n",
    "B = [int(input()) for _ in range(Q)]\n",
    "\n",
    "A.sort()  \n",
    "for q in range(Q):\n",
    "    x = B[q]\n",
    "    idx = closest_x(A, x)\n",
    "\n",
    "    res = float('inf')\n",
    "    if idx < N:\n",
    "        res = min(res, abs(A[idx] - x))\n",
    "    if idx > 0:\n",
    "        res = min(res, abs(A[idx - 1] - x))\n",
    "\n",
    "    print(res)"
   ]
  },
  {
   "cell_type": "code",
   "execution_count": null,
   "metadata": {},
   "outputs": [],
   "source": [
    "# データの入力\n",
    "N = int(input())\n",
    "C, P = [0] * N, [0] * N\n",
    "for i in range(N):\n",
    "    C[i], P[i] = map(int, input().split())\n",
    "\n",
    "Q = int(input())\n",
    "L, R = [0] * Q, [0] * Q\n",
    "\n",
    "# クラスごとの累積和\n",
    "total_1 = [0] * (N + 1)\n",
    "total_2 = [0] * (N + 1)\n",
    "\n",
    "for i in range(N):\n",
    "    total_1[i + 1] = total_1[i] + (P[i] if C[i] == 1 else 0)\n",
    "    total_2[i + 1] = total_2[i] + (P[i] if C[i] == 2 else 0)\n",
    "\n",
    "# クエリ処理\n",
    "for q in range(Q):\n",
    "    L[q], R[q] = map(int, input().split())\n",
    "    sum1 = total_1[R[q]] - total_1[L[q] - 1]\n",
    "    sum2 = total_2[R[q]] - total_2[L[q] - 1]\n",
    "    print(sum1, sum2)"
   ]
  },
  {
   "cell_type": "code",
   "execution_count": null,
   "metadata": {},
   "outputs": [],
   "source": [
    "n=int(input())\n",
    "work=[list(map(int,input().split())) for _ in range(n)]\n",
    "dp=[-1]*(5002)\n",
    "dp[1]=0\n",
    "work.sort()\n",
    "for j in range(n):\n",
    "    d,c,s=work[j]\n",
    "    for i in range(d+1-c,0,-1):\n",
    "        if dp[i]>=0 and i+c<=5001:\n",
    "            dp[i+c]=max(dp[i+c],dp[i]+s)\n",
    "print(max(dp))\n"
   ]
  },
  {
   "cell_type": "code",
   "execution_count": null,
   "metadata": {},
   "outputs": [],
   "source": [
    "N , S = map(int, input().split())\n",
    "A = list(map(int, input().split()))\n",
    "#dp[k][x]をk枚のカードでxを作ることができるか？という部分和に帰着\n",
    "\n",
    "dp = [[False]* (S + 1) for _ in range(N + 1)]\n",
    "dp[0][0] = True\n",
    "for k in range(1, N+1):\n",
    "    for x in range(0, S + 1):\n",
    "        if dp[k-1][x] :\n",
    "            dp[k][x] = True  \n",
    "        if x >= A[k-1] and dp[k-1][x - A[k-1]]:\n",
    "            dp[k][x] = True\n",
    "\n",
    "print(\"Yes\" if dp[N][S] else \"No\")"
   ]
  },
  {
   "cell_type": "code",
   "execution_count": null,
   "metadata": {},
   "outputs": [
    {
     "name": "stdout",
     "output_type": "stream",
     "text": [
      "1 2 4 5\n"
     ]
    }
   ],
   "source": [
    "N = int(input())\n",
    "A = list(map(int, input().split()))\n",
    "B = list(map(int, input().split()))\n",
    "dp = [0] * (N + 1)\n",
    "dp[1] = 0\n",
    "route = []\n",
    "for i in range(2, N + 1):\n",
    "    if i == 2:\n",
    "        dp[i] = A[i-2]\n",
    "    else:\n",
    "        dp[i] = min(dp[i-1] + A[i-2], dp[i-2] + B[i-3])\n",
    "\n",
    "\n",
    "#逆から順に復元してみる\n",
    "pos = N\n",
    "while (pos >= 1):\n",
    "    route.append(pos)\n",
    "    if pos == 2:\n",
    "        pos -= 1\n",
    "    else:\n",
    "        if dp[pos] == dp[pos-1] + A[pos-2] :\n",
    "            pos -= 1\n",
    "        else:\n",
    "            pos -= 2\n",
    "route.reverse()\n",
    "print(len(route))\n",
    "print(*route)"
   ]
  },
  {
   "cell_type": "code",
   "execution_count": 12,
   "metadata": {},
   "outputs": [
    {
     "name": "stdout",
     "output_type": "stream",
     "text": [
      "Yes\n"
     ]
    }
   ],
   "source": [
    "N , S = map(int, input().split())\n",
    "A = list(map(int, input().split()))\n",
    "total = sum(A)\n",
    "dp = [[False] * (S + 1) for _ in range(N + 1)]\n",
    "dp[0][0] = True\n",
    "\n",
    "for i in range(1, N + 1):\n",
    "    for j in range(0 , S + 1):\n",
    "        if dp[i-1][j] :\n",
    "            dp[i][j] = True\n",
    "        if j >= A[i-1] and dp[i-1][j-A[i-1]] == True :\n",
    "            dp[i][j] = True\n",
    "\n",
    "print('Yes' if dp[N][S] else 'No')"
   ]
  },
  {
   "cell_type": "code",
   "execution_count": 2,
   "metadata": {},
   "outputs": [
    {
     "name": "stdout",
     "output_type": "stream",
     "text": [
      "[0, 2, 2, 2, 4, 5]\n"
     ]
    }
   ],
   "source": [
    "ln = [0,1,2,3,4,5]\n",
    "ln[1:4] = [2] * (4-1)\n",
    "print(ln)"
   ]
  },
  {
   "cell_type": "code",
   "execution_count": null,
   "metadata": {},
   "outputs": [],
   "source": []
  }
 ],
 "metadata": {
  "kernelspec": {
   "display_name": "base",
   "language": "python",
   "name": "python3"
  },
  "language_info": {
   "codemirror_mode": {
    "name": "ipython",
    "version": 3
   },
   "file_extension": ".py",
   "mimetype": "text/x-python",
   "name": "python",
   "nbconvert_exporter": "python",
   "pygments_lexer": "ipython3",
   "version": "3.12.3"
  }
 },
 "nbformat": 4,
 "nbformat_minor": 2
}
